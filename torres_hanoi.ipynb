{
  "cells": [
    {
      "cell_type": "code",
      "execution_count": 1,
      "id": "be1cc1d9-0ae2-4bca-b23f-ba3513571375",
      "metadata": {
        "id": "be1cc1d9-0ae2-4bca-b23f-ba3513571375"
      },
      "outputs": [],
      "source": [
        "import copy\n",
        "\n",
        "N = 3\n",
        "torre = [t for t in range(1, N+1)]\n",
        "estado_inicial = [ torre , list(), list() ]\n",
        "estado_final   = [ list() , list(), torre ]\n",
        "\n",
        "def check_data(data):\n",
        "  assert type(data) == list and len(data) == 3\n",
        "  assert type(data[0]) == list and (type(data[1]) == list and type(data[2]) == list)\n",
        "\n",
        "def is_valid_state(s):\n",
        "  check_data(s)\n",
        "\n",
        "  def is_valid_tower(t):\n",
        "    assert all(isinstance(n, int) for n in t)\n",
        "\n",
        "    copy_t = copy.copy(t)\n",
        "    if len(t) > 1 and t == sorted(copy_t): return True\n",
        "    if len(t) == 1 or len(t) == 0:         return True\n",
        "\n",
        "    return False\n",
        "\n",
        "  if is_valid_tower(s[0]) and (is_valid_tower(s[1]) and is_valid_tower(s[2])): return True\n",
        "  else:                                                                        return False\n",
        "\n",
        "def states(s):\n",
        "  check_data(s)\n",
        "\n",
        "  for origin in range(len(s)):\n",
        "    for destination in range(len(s)):\n",
        "      ns=copy.deepcopy(s)\n",
        "      if origin != destination and ns[origin] != []:\n",
        "        ns[destination].insert(0,ns[origin].pop(0))\n",
        "        yield ns\n"
      ]
    },
    {
      "cell_type": "code",
      "source": [
        "def busquedaProfundidad(actual, cerrados=[]):\n",
        "    if actual==estado_final:\n",
        "        return [actual]\n",
        "    else:\n",
        "        for ns in states(actual):\n",
        "            if is_valid_state(ns) and ns not in cerrados:\n",
        "                cerrados.append(ns)\n",
        "                r=busquedaProfundidad(ns, cerrados)\n",
        "                if r:\n",
        "                    r.insert(0, actual)\n",
        "                    return r\n",
        "        return []\n",
        "\n",
        "\n",
        "solucion = busquedaProfundidad(estado_inicial)\n",
        "solucion\n"
      ],
      "metadata": {
        "colab": {
          "base_uri": "https://localhost:8080/"
        },
        "id": "atYKfFTZo7hw",
        "outputId": "a461e3c7-c55a-4d34-b485-14f68893f0de"
      },
      "id": "atYKfFTZo7hw",
      "execution_count": 2,
      "outputs": [
        {
          "output_type": "execute_result",
          "data": {
            "text/plain": [
              "[[[1, 2, 3], [], []],\n",
              " [[2, 3], [1], []],\n",
              " [[3], [1], [2]],\n",
              " [[1, 3], [], [2]],\n",
              " [[3], [], [1, 2]],\n",
              " [[], [3], [1, 2]],\n",
              " [[1], [3], [2]],\n",
              " [[], [1, 3], [2]],\n",
              " [[2], [1, 3], []],\n",
              " [[1, 2], [3], []],\n",
              " [[1, 2], [], [3]],\n",
              " [[2], [1], [3]],\n",
              " [[], [1], [2, 3]],\n",
              " [[1], [], [2, 3]],\n",
              " [[], [], [1, 2, 3]]]"
            ]
          },
          "metadata": {},
          "execution_count": 2
        }
      ]
    },
    {
      "cell_type": "code",
      "source": [
        "len(solucion)"
      ],
      "metadata": {
        "colab": {
          "base_uri": "https://localhost:8080/"
        },
        "id": "ExT9pKJYkWIn",
        "outputId": "f4d8a229-3108-429a-e456-8f55711514d7"
      },
      "id": "ExT9pKJYkWIn",
      "execution_count": 11,
      "outputs": [
        {
          "output_type": "execute_result",
          "data": {
            "text/plain": [
              "15"
            ]
          },
          "metadata": {},
          "execution_count": 11
        }
      ]
    }
  ],
  "metadata": {
    "kernelspec": {
      "display_name": "Python 3",
      "language": "python",
      "name": "python3"
    },
    "language_info": {
      "codemirror_mode": {
        "name": "ipython",
        "version": 3
      },
      "file_extension": ".py",
      "mimetype": "text/x-python",
      "name": "python",
      "nbconvert_exporter": "python",
      "pygments_lexer": "ipython3",
      "version": "3.7.15"
    },
    "colab": {
      "provenance": []
    }
  },
  "nbformat": 4,
  "nbformat_minor": 5
}